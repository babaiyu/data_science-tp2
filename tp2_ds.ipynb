{
 "cells": [
  {
   "cell_type": "code",
   "execution_count": 1,
   "metadata": {},
   "outputs": [],
   "source": [
    "import pandas as pd\n",
    "import numpy as np\n",
    "import warnings\n",
    "warnings.simplefilter(action='ignore', category=FutureWarning)\n",
    "\n",
    "# Membuat class Naive Bayes\n",
    "class NaiveBayesClassifier:\n",
    "    def __init__(self):\n",
    "        self.classes = None\n",
    "        self.class_priors = None\n",
    "        self.feature_probabilities = None\n",
    "\n",
    "    def train(self, X, y):\n",
    "        self.classes = np.unique(y)\n",
    "        self.class_priors = {}\n",
    "        self.feature_probabilities = {}\n",
    "\n",
    "        # Menghitung prior probability untuk setiap kelas\n",
    "        total_samples = len(y)\n",
    "        for c in self.classes:\n",
    "            class_samples = X[y == c]\n",
    "            self.class_priors[c] = len(class_samples) / total_samples\n",
    "\n",
    "            # Menghitung probability untuk setiap fitur dalam kelas\n",
    "            self.feature_probabilities[c] = {}\n",
    "            for feature in X.columns:\n",
    "                feature_values = class_samples[feature]\n",
    "                unique_values, counts = np.unique(\n",
    "                    feature_values, return_counts=True)\n",
    "                self.feature_probabilities[c][feature] = dict(\n",
    "                    zip(unique_values, counts / len(feature_values)))\n",
    "\n",
    "    def predict(self, X_test):\n",
    "        predictions = []\n",
    "\n",
    "        for _, row in X_test.iterrows():\n",
    "            class_scores = {}\n",
    "\n",
    "            # Menghitung score untuk setiap kelas berdasarkan probability dan prior probability\n",
    "            for c in self.classes:\n",
    "                class_scores[c] = self.class_priors[c]\n",
    "                for feature, value in row.iteritems():\n",
    "                    if value in self.feature_probabilities[c][feature]:\n",
    "                        class_scores[c] *= self.feature_probabilities[c][feature][value]\n",
    "\n",
    "            # Memprediksi kelas dengan nilai score tertinggi\n",
    "            predicted_class = max(class_scores, key=class_scores.get)\n",
    "            predictions.append(predicted_class)\n",
    "\n",
    "        return predictions\n"
   ]
  },
  {
   "cell_type": "code",
   "execution_count": 2,
   "metadata": {},
   "outputs": [
    {
     "name": "stdout",
     "output_type": "stream",
     "text": [
      "Data Utama\n",
      "  jenis_kelamin  umur_karyawan      gaji   status       transportasi\n",
      "0     laki-laki             20   8000000   single  kendaraan_pribadi\n",
      "1     laki-laki             35  14000000   single     kendaraan_umum\n",
      "2     perempuan             26  10000000   single     kendaraan_umum\n",
      "3     perempuan             27  12000000  menikah  kendaraan_pribadi\n",
      "4     laki-laki             21   9000000   single  kendaraan_pribadi\n",
      "5     laki-laki             22  11000000   single  kendaraan_pribadi\n",
      "6     perempuan             32  15000000  menikah     kendaraan_umum\n",
      "7     perempuan             26   8000000  menikah     kendaraan_umum\n",
      "8     laki-laki             25   9000000   single     kendaraan_umum\n",
      "9     perempuan             20  10000000   single  kendaraan_pribadi\n",
      "\n",
      "Data Baru\n",
      "  jenis_kelamin  umur_karyawan      gaji   status\n",
      "0     perempuan             27  12000000   single\n",
      "1     laki-laki             35  14000000  menikah\n",
      "\n"
     ]
    }
   ],
   "source": [
    "# Mengambil data dari data.csv\n",
    "print(\"Data Utama\")\n",
    "data = pd.read_csv('data.csv')\n",
    "print(pd.DataFrame(data))\n",
    "print()\n",
    "\n",
    "# Mengambil data baru\n",
    "print(\"Data Baru\")\n",
    "data_new = pd.read_csv('data_baru.csv')\n",
    "print(pd.DataFrame(data_new))\n",
    "print()"
   ]
  },
  {
   "cell_type": "code",
   "execution_count": 3,
   "metadata": {},
   "outputs": [
    {
     "name": "stdout",
     "output_type": "stream",
     "text": [
      "Mendapatkan prediksi transportasi apa untuk data baru\n",
      "\n",
      "Data baru ke- 1 :\n",
      "Jenis Kelamin : perempuan\n",
      "Umur Karyawan : 27\n",
      "Gaji : 12000000\n",
      "Status : single\n",
      "Transportasi : kendaraan_umum\n",
      "\n",
      "Data baru ke- 2 :\n",
      "Jenis Kelamin : laki-laki\n",
      "Umur Karyawan : 35\n",
      "Gaji : 14000000\n",
      "Status : menikah\n",
      "Transportasi : kendaraan_pribadi\n",
      "\n"
     ]
    }
   ],
   "source": [
    "# Memisahkan fitur dan target, yakni transportasi\n",
    "dataX = data.drop('transportasi', axis=1)\n",
    "dataY = data['transportasi']\n",
    "\n",
    "# Membuat objek untuk model menggunakan Naive Bayes\n",
    "model = NaiveBayesClassifier()\n",
    "\n",
    "# Melatih model\n",
    "model.train(dataX, dataY)\n",
    "\n",
    "# Memprediksi jenis transportasi untuk data baru\n",
    "predictions = model.predict(data_new)\n",
    "\n",
    "# Menampilkan hasil prediksi untuk data baru\n",
    "print(\"Mendapatkan prediksi transportasi apa untuk data baru\")\n",
    "print()\n",
    "\n",
    "for i in range(len(data_new)):\n",
    "    print(\"Data baru ke-\", i+1, \":\")\n",
    "    print(\"Jenis Kelamin :\", data_new['jenis_kelamin'][i])\n",
    "    print(\"Umur Karyawan :\", data_new['umur_karyawan'][i])\n",
    "    print(\"Gaji :\", data_new['gaji'][i])\n",
    "    print(\"Status :\", data_new['status'][i])\n",
    "    print(\"Transportasi :\", predictions[i])\n",
    "    print()"
   ]
  }
 ],
 "metadata": {
  "kernelspec": {
   "display_name": "tp1_ds",
   "language": "python",
   "name": "python3"
  },
  "language_info": {
   "codemirror_mode": {
    "name": "ipython",
    "version": 3
   },
   "file_extension": ".py",
   "mimetype": "text/x-python",
   "name": "python",
   "nbconvert_exporter": "python",
   "pygments_lexer": "ipython3",
   "version": "3.11.4"
  },
  "orig_nbformat": 4
 },
 "nbformat": 4,
 "nbformat_minor": 2
}
